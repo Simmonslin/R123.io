{
 "cells": [
  {
   "cell_type": "code",
   "execution_count": 2,
   "metadata": {},
   "outputs": [
    {
     "name": "stdout",
     "output_type": "stream",
     "text": [
      "ABCDEFGHIJKLMNOPQRSTUVWXYZ\n",
      "A 出現 396 次\n",
      "B 出現 403 次\n",
      "C 出現 371 次\n",
      "D 出現 390 次\n",
      "E 出現 396 次\n",
      "F 出現 385 次\n",
      "G 出現 361 次\n",
      "H 出現 418 次\n",
      "I 出現 385 次\n",
      "J 出現 354 次\n",
      "K 出現 384 次\n",
      "L 出現 341 次\n",
      "M 出現 391 次\n",
      "N 出現 375 次\n",
      "O 出現 392 次\n",
      "P 出現 372 次\n",
      "Q 出現 376 次\n",
      "R 出現 376 次\n",
      "S 出現 393 次\n",
      "T 出現 427 次\n",
      "U 出現 387 次\n",
      "V 出現 381 次\n",
      "W 出現 415 次\n",
      "X 出現 366 次\n",
      "Y 出現 376 次\n",
      "Z 出現 389 次\n",
      "10000\n"
     ]
    }
   ],
   "source": [
    "import random\n",
    "\n",
    "string=\"abcdefghijklmnopqrstuvwxyz\"\n",
    "string_upper=string.upper()\n",
    "print(string_upper)\n",
    "\n",
    "# 用random.sample()生成隨機字符  usage : random.sample(sequence, k)\n",
    "\n",
    "# 但k的大小不能超過 string 的長度，因此需用迴圈和空的list累積隨機字母\n",
    "\n",
    "list1=[]\n",
    "for i in range(10000):\n",
    "    random_regex=random.sample(string_upper,1)\n",
    "    list1.append(random_regex[0])\n",
    "\n",
    "ans=0\n",
    "for i in range(len(string_upper)):\n",
    "    print(\"%s 出現 %d 次\" %(string_upper[i],list1.count(string_upper[i])))\n",
    "    ans+=list1.count(string_upper[i])\n",
    "    \n",
    "\n",
    "# check\n",
    "print(ans)\n",
    "\n"
   ]
  },
  {
   "cell_type": "code",
   "execution_count": null,
   "metadata": {},
   "outputs": [],
   "source": []
  }
 ],
 "metadata": {
  "kernelspec": {
   "display_name": "Python 3",
   "language": "python",
   "name": "python3"
  },
  "language_info": {
   "codemirror_mode": {
    "name": "ipython",
    "version": 3
   },
   "file_extension": ".py",
   "mimetype": "text/x-python",
   "name": "python",
   "nbconvert_exporter": "python",
   "pygments_lexer": "ipython3",
   "version": "3.8.3"
  }
 },
 "nbformat": 4,
 "nbformat_minor": 4
}
